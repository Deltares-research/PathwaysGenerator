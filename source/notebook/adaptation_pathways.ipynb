{
 "cells": [
  {
   "cell_type": "code",
   "execution_count": 1,
   "id": "0feb24cf-dce6-45b0-b6be-9659467f519d",
   "metadata": {},
   "outputs": [],
   "source": [
    "from adaptation_pathways import view_in_jupyter"
   ]
  },
  {
   "cell_type": "code",
   "execution_count": 2,
   "id": "1c3249a2-b520-43c6-a22d-a5a479d320ae",
   "metadata": {},
   "outputs": [
    {
     "name": "stdout",
     "output_type": "stream",
     "text": [
      "Help on method run in module dash.dash:\n",
      "\n",
      "run(host='127.0.0.1', port='8050', proxy=None, debug=None, jupyter_mode: Literal['inline', 'external', 'jupyterlab', 'tab', '_none'] = None, jupyter_width='100%', jupyter_height=650, jupyter_server_url=None, dev_tools_ui=None, dev_tools_props_check=None, dev_tools_serve_dev_bundles=None, dev_tools_hot_reload=None, dev_tools_hot_reload_interval=None, dev_tools_hot_reload_watch_interval=None, dev_tools_hot_reload_max_retry=None, dev_tools_silence_routes_logging=None, dev_tools_prune_errors=None, **flask_run_options) method of dash.dash.Dash instance\n",
      "    Start the flask server in local mode, you should not run this on a\n",
      "    production server, use gunicorn/waitress instead.\n",
      "    \n",
      "    If a parameter can be set by an environment variable, that is listed\n",
      "    too. Values provided here take precedence over environment variables.\n",
      "    \n",
      "    :param host: Host IP used to serve the application\n",
      "        env: ``HOST``\n",
      "    :type host: string\n",
      "    \n",
      "    :param port: Port used to serve the application\n",
      "        env: ``PORT``\n",
      "    :type port: int\n",
      "    \n",
      "    :param proxy: If this application will be served to a different URL\n",
      "        via a proxy configured outside of Python, you can list it here\n",
      "        as a string of the form ``\"{input}::{output}\"``, for example:\n",
      "        ``\"http://0.0.0.0:8050::https://my.domain.com\"``\n",
      "        so that the startup message will display an accurate URL.\n",
      "        env: ``DASH_PROXY``\n",
      "    :type proxy: string\n",
      "    \n",
      "    :param debug: Set Flask debug mode and enable dev tools.\n",
      "        env: ``DASH_DEBUG``\n",
      "    :type debug: bool\n",
      "    \n",
      "    :param debug: Enable/disable all the dev tools unless overridden by the\n",
      "        arguments or environment variables. Default is ``True`` when\n",
      "        ``enable_dev_tools`` is called directly, and ``False`` when called\n",
      "        via ``run``. env: ``DASH_DEBUG``\n",
      "    :type debug: bool\n",
      "    \n",
      "    :param dev_tools_ui: Show the dev tools UI. env: ``DASH_UI``\n",
      "    :type dev_tools_ui: bool\n",
      "    \n",
      "    :param dev_tools_props_check: Validate the types and values of Dash\n",
      "        component props. env: ``DASH_PROPS_CHECK``\n",
      "    :type dev_tools_props_check: bool\n",
      "    \n",
      "    :param dev_tools_serve_dev_bundles: Serve the dev bundles. Production\n",
      "        bundles do not necessarily include all the dev tools code.\n",
      "        env: ``DASH_SERVE_DEV_BUNDLES``\n",
      "    :type dev_tools_serve_dev_bundles: bool\n",
      "    \n",
      "    :param dev_tools_hot_reload: Activate hot reloading when app, assets,\n",
      "        and component files change. env: ``DASH_HOT_RELOAD``\n",
      "    :type dev_tools_hot_reload: bool\n",
      "    \n",
      "    :param dev_tools_hot_reload_interval: Interval in seconds for the\n",
      "        client to request the reload hash. Default 3.\n",
      "        env: ``DASH_HOT_RELOAD_INTERVAL``\n",
      "    :type dev_tools_hot_reload_interval: float\n",
      "    \n",
      "    :param dev_tools_hot_reload_watch_interval: Interval in seconds for the\n",
      "        server to check asset and component folders for changes.\n",
      "        Default 0.5. env: ``DASH_HOT_RELOAD_WATCH_INTERVAL``\n",
      "    :type dev_tools_hot_reload_watch_interval: float\n",
      "    \n",
      "    :param dev_tools_hot_reload_max_retry: Maximum number of failed reload\n",
      "        hash requests before failing and displaying a pop up. Default 8.\n",
      "        env: ``DASH_HOT_RELOAD_MAX_RETRY``\n",
      "    :type dev_tools_hot_reload_max_retry: int\n",
      "    \n",
      "    :param dev_tools_silence_routes_logging: Silence the `werkzeug` logger,\n",
      "        will remove all routes logging. Enabled with debugging by default\n",
      "        because hot reload hash checks generate a lot of requests.\n",
      "        env: ``DASH_SILENCE_ROUTES_LOGGING``\n",
      "    :type dev_tools_silence_routes_logging: bool\n",
      "    \n",
      "    :param dev_tools_prune_errors: Reduce tracebacks to just user code,\n",
      "        stripping out Flask and Dash pieces. Only available with debugging.\n",
      "        `True` by default, set to `False` to see the complete traceback.\n",
      "        env: ``DASH_PRUNE_ERRORS``\n",
      "    :type dev_tools_prune_errors: bool\n",
      "    \n",
      "    :param jupyter_mode: How to display the application when running\n",
      "        inside a jupyter notebook.\n",
      "    \n",
      "    :param jupyter_width: Determine the width of the output cell\n",
      "        when displaying inline in jupyter notebooks.\n",
      "    :type jupyter_width: str\n",
      "    \n",
      "    :param jupyter_height: Height of app when displayed using\n",
      "        jupyter_mode=\"inline\"\n",
      "    :type jupyter_height: int\n",
      "    \n",
      "    :param jupyter_server_url: Custom server url to display\n",
      "        the app in jupyter notebook.\n",
      "    \n",
      "    :param flask_run_options: Given to `Flask.run`\n",
      "    \n",
      "    :return:\n",
      "\n"
     ]
    },
    {
     "data": {
      "text/plain": [
       "0"
      ]
     },
     "execution_count": 2,
     "metadata": {},
     "output_type": "execute_result"
    }
   ],
   "source": [
    "view_in_jupyter(mode=\"jupyterlab\")"
   ]
  },
  {
   "cell_type": "code",
   "execution_count": null,
   "id": "4cac3955-870c-4304-8b3a-ab325f255ce0",
   "metadata": {},
   "outputs": [],
   "source": []
  }
 ],
 "metadata": {
  "kernelspec": {
   "display_name": "Python 3 (ipykernel)",
   "language": "python",
   "name": "python3"
  },
  "language_info": {
   "codemirror_mode": {
    "name": "ipython",
    "version": 3
   },
   "file_extension": ".py",
   "mimetype": "text/x-python",
   "name": "python",
   "nbconvert_exporter": "python",
   "pygments_lexer": "ipython3",
   "version": "3.10.12"
  }
 },
 "nbformat": 4,
 "nbformat_minor": 5
}
